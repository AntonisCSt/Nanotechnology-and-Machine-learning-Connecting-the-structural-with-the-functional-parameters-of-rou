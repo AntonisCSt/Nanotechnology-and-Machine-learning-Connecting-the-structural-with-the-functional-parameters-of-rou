{
 "cells": [
  {
   "cell_type": "code",
   "execution_count": 1,
   "metadata": {},
   "outputs": [],
   "source": [
    "#import libraries part 1\n",
    "import pandas as pd\n",
    "import matplotlib.pyplot as plt\n",
    "import seaborn as sns\n",
    "import numpy as np\n",
    "import warnings\n",
    "import random\n",
    "warnings.filterwarnings('ignore')\n",
    "%matplotlib inline"
   ]
  },
  {
   "cell_type": "code",
   "execution_count": null,
   "metadata": {},
   "outputs": [],
   "source": [
    "df1 = pd.read_csv(\"Dataset v1.csv\")\n",
    "df2= pd.read_csv(\"Dataset v2.csv\")\n",
    "df3= pd.read_csv(\"Dataset v3.csv\")\n",
    "df4= pd.read_csv(\"Dataset v4.csv\")\n",
    "heldout=pd.read_csv(\"heldout.csv\")"
   ]
  },
  {
   "cell_type": "code",
   "execution_count": null,
   "metadata": {},
   "outputs": [],
   "source": [
    "#function\n",
    "def plot_my_dataset_info(df):\n",
    "    f = plt.figure(figsize=(12,9))\n",
    "    font = {'family' : 'normal',\n",
    "        'weight' : 'bold',\n",
    "        'size'   : 40}\n",
    "\n",
    "    plt.rc('font', **font)\n",
    "    sns.set(style=\"ticks\", palette=\"Set2\" )\n",
    "    ax = f.add_subplot(331 )\n",
    "    ax = df['Rms'].hist(bins=30)\n",
    "    plt.ylabel('Count (arb. units)',fontsize=15)\n",
    "    plt.xlabel('RMS ($μm$)',fontsize=15)\n",
    "    plt.tick_params(axis='both', which='major', labelsize=14)\n",
    "    #plt.title('RMS',fontsize=10)\n",
    "\n",
    "    ax2 = f.add_subplot(332)\n",
    "\n",
    "    ax2 =  df['clx'].hist(bins=100)\n",
    "    plt.ylabel('Count (arb. units)',fontsize=15)\n",
    "    plt.xlabel('ξx ($μm$)',fontsize=15)\n",
    "    plt.tick_params(axis='both', which='major', labelsize=14)\n",
    "    #plt.title('Linear regression (Train size= 610)',fontsize=10)\n",
    "    ax3 = f.add_subplot(333)\n",
    "\n",
    "    ax3 =  df['cly'].hist(bins=100)\n",
    "    plt.ylabel('Count (arb. units)',fontsize=15)\n",
    "    plt.xlabel('ξy ($μm$)',fontsize=15)\n",
    "    plt.tick_params(axis='both', which='major', labelsize=14)\n",
    "    #plt.title('Linear regression (Train size= 610)',fontsize=10)\n",
    "    ax4 = f.add_subplot(334)\n",
    "\n",
    "\n",
    "    ax4 =  df['Skewness'].hist(bins=80)\n",
    "    plt.ylabel('Count (arb. units)',fontsize=15)\n",
    "    plt.xlabel('Skewness',fontsize=15)\n",
    "    plt.tick_params(axis='both', which='major', labelsize=14)\n",
    "    #plt.title('Linear regression (Train size= 610)',fontsize=10)\n",
    "    ax5 = f.add_subplot(335)\n",
    "\n",
    "    ax5 =  df['Kurtosis'].hist(bins=30)\n",
    "\n",
    "    plt.ylabel('Count (arb. units)',fontsize=15)\n",
    "    plt.xlabel('Kurtosis',fontsize=15)\n",
    "    plt.tick_params(axis='both', which='major', labelsize=14)\n",
    "    #plt.title('Linear regression (Train size= 610)',fontsize=10)\n",
    "    ax6 = f.add_subplot(336)\n",
    "\n",
    "    ax6 =  df['Area'].hist(bins=60)\n",
    "    plt.ylabel('Count (arb. units)',fontsize=15)\n",
    "    plt.xlabel('Active area ($μm^2$)',fontsize=15)\n",
    "\n",
    "\n",
    "    #plt.title('Linear regression (Train size= 610)',fontsize=10)\n",
    "    f.tight_layout()\n",
    "    plt.tick_params(axis='both', which='major', labelsize=14)"
   ]
  },
  {
   "cell_type": "code",
   "execution_count": null,
   "metadata": {},
   "outputs": [],
   "source": [
    "## Dataset v1"
   ]
  },
  {
   "cell_type": "code",
   "execution_count": null,
   "metadata": {},
   "outputs": [],
   "source": []
  },
  {
   "cell_type": "code",
   "execution_count": null,
   "metadata": {},
   "outputs": [],
   "source": []
  }
 ],
 "metadata": {
  "kernelspec": {
   "display_name": "Python 3.9.7 ('AX-St-9yHjEswu')",
   "language": "python",
   "name": "python3"
  },
  "language_info": {
   "codemirror_mode": {
    "name": "ipython",
    "version": 3
   },
   "file_extension": ".py",
   "mimetype": "text/x-python",
   "name": "python",
   "nbconvert_exporter": "python",
   "pygments_lexer": "ipython3",
   "version": "3.9.7"
  },
  "orig_nbformat": 4,
  "vscode": {
   "interpreter": {
    "hash": "51e5b70e0ea1242fbd6f952a569b01b03c48e1cd223d3c1b8ab12f7eb8d04659"
   }
  }
 },
 "nbformat": 4,
 "nbformat_minor": 2
}
